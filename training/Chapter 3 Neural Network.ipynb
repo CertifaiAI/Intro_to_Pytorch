{
 "cells": [
  {
   "cell_type": "markdown",
   "metadata": {},
   "source": [
    "# Neural Network"
   ]
  },
  {
   "cell_type": "markdown",
   "metadata": {},
   "source": [
    "## 3.1 Dataloader\n",
    "### What is Dataloader\n",
    "Dataloader is a class that helps with shuffling and organizing the data in minibatches. We can import this class from `torch.utils.data`.\n",
    "\n",
    "The job of a data loader is to sample minibatches from a dataset, giving us the flexibility to choose the size of our minibatch to be use for training in each iteration. The constructor takes a `Dataset` object as input, along with `batch_size` and a `shuffle` boolean variable that indicates whether the data needs to be shuffled at the beginning of each epoch.\n",
    "\n",
    "In this chapter, we are going to do classification task based on Fashion MNIST dataset. Fashion MNIST dataset could be directly imported and downloaded from `torchvision.datasets.FashionMNIST`. Pytorch has collected several datasets (CIFAR, COCO, Cityscapes, etc..) in the `torchvision` library, you may have a look of the full list of datasets at [here](https://pytorch.org/docs/stable/torchvision/datasets.html)."
   ]
  },
  {
   "cell_type": "code",
   "execution_count": null,
   "metadata": {},
   "outputs": [],
   "source": [
    "# importing the required library\n",
    "import torch\n",
    "import torchvision\n",
    "import torchvision.transforms as transforms\n",
    "from torch.utils.data import Dataset, DataLoader\n",
    "import matplotlib.pyplot as plt\n",
    "import numpy as np"
   ]
  },
  {
   "cell_type": "code",
   "execution_count": null,
   "metadata": {
    "scrolled": true
   },
   "outputs": [],
   "source": [
    "# Loading/Downloading the FashionMNIST dataset, download might takes some time \n",
    "train_set = torchvision.datasets.FashionMNIST(\n",
    "    root = '../data',\n",
    "    train = True,\n",
    "    download = True,\n",
    "    transform = transforms.ToTensor()\n",
    "    )\n",
    "test_set = torchvision.datasets.FashionMNIST(\n",
    "    root = '../data',\n",
    "    train = False,\n",
    "    download = True,\n",
    "    transform = transforms.ToTensor()\n",
    "    )"
   ]
  },
  {
   "cell_type": "markdown",
   "metadata": {},
   "source": [
    "Loading the dataset into the `DataLoader` and input your desired batch size for training"
   ]
  },
  {
   "cell_type": "code",
   "execution_count": null,
   "metadata": {},
   "outputs": [],
   "source": [
    "train_loader = DataLoader(train_set, batch_size = 32, shuffle = True)\n",
    "test_loader = DataLoader(test_set, batch_size = 32, shuffle = False)"
   ]
  },
  {
   "cell_type": "code",
   "execution_count": null,
   "metadata": {},
   "outputs": [],
   "source": [
    "# A view of the DataLoader\n",
    "\n",
    "batch = next(iter(train_loader))\n",
    "images, labels = batch\n",
    "\n",
    "# Output the size of each batch\n",
    "print(images.shape, labels.shape)"
   ]
  },
  {
   "cell_type": "markdown",
   "metadata": {},
   "source": [
    "Each images are assigned to one of the following labels:\n",
    "\n",
    "- 0 T-shirt/top\n",
    "- 1 Trouser\n",
    "- 2 Pullover\n",
    "- 3 Dress\n",
    "- 4 Coat\n",
    "- 5 Sandal\n",
    "- 6 Shirt\n",
    "- 7 Sneaker\n",
    "- 8 Bag\n",
    "- 9 Ankle boot\n",
    "\n",
    "Let us plot the image out to have a look on how does the dataset looks like."
   ]
  },
  {
   "cell_type": "code",
   "execution_count": null,
   "metadata": {},
   "outputs": [],
   "source": [
    "# Converting numeric labels to text label\n",
    "\n",
    "def labelsText(labels):\n",
    "    labelDict = {\n",
    "                 0: \"T-shirt/Top\",\n",
    "                 1: \"Trouser\",\n",
    "                 2: \"Pullover\",\n",
    "                 3: \"Dress\",\n",
    "                 4: \"Coat\", \n",
    "                 5: \"Sandal\", \n",
    "                 6: \"Shirt\",\n",
    "                 7: \"Sneaker\",\n",
    "                 8: \"Bag\",\n",
    "                 9: \"Ankle Boot\"\n",
    "                 }\n",
    "    label = (labels.item() if type(labels) == torch.Tensor else labels)\n",
    "    return labelDict[label]"
   ]
  },
  {
   "cell_type": "code",
   "execution_count": null,
   "metadata": {},
   "outputs": [],
   "source": [
    "# Plotting out the images in the dataset\n",
    "\n",
    "grid = torchvision.utils.make_grid(images[0:10], nrow = 10)\n",
    "\n",
    "plt.figure(figsize = (15, 15))\n",
    "plt.imshow(np.transpose(grid, (1, 2, 0)))\n",
    "\n",
    "print(\"Labels: \")\n",
    "for i in labels[0:10]:\n",
    "    print(labelsText(i) + \", \", end = \"\")"
   ]
  },
  {
   "cell_type": "markdown",
   "metadata": {},
   "source": [
    "## 3.2 Build your first Neural Network"
   ]
  },
  {
   "cell_type": "markdown",
   "metadata": {},
   "source": [
    "### 3.2.1 Model Training\n",
    "We had loaded our dataset into training and testing set, now let us build a simple Feedfoward Neural Network to perform classification on this dataset.\n",
    "\n",
    "PyTorch has a whole submodule dedicated to neural networks, called `torch.nn`. It contains the building blocks needed to create all sorts of neural network architectures.\n",
    "\n",
    "To build a Neural Network, it could be done in two ways :\n",
    "- Calling the `nn.Sequential()` for fast implementation of the network\n",
    "- Subclassing `nn.Module` to have more flexibility on designing the network, eg: writing the your own `foward()` method\n",
    "\n",
    "\n",
    "Now let us start building the Neural Network"
   ]
  },
  {
   "cell_type": "code",
   "execution_count": null,
   "metadata": {},
   "outputs": [],
   "source": [
    "import torch.nn as nn\n",
    "import torch.optim as optim\n",
    "import torch.nn.functional as F"
   ]
  },
  {
   "cell_type": "markdown",
   "metadata": {},
   "source": [
    "We would like to build a 4 layers neural network with ReLU activation function. Apply dropout with 20% probability to reduce the effect of overfitting. Let us try build our model using `nn.Sequential`."
   ]
  },
  {
   "cell_type": "code",
   "execution_count": null,
   "metadata": {},
   "outputs": [],
   "source": [
    "# nn.Sequential()\n",
    "torch.manual_seed(0)\n",
    "model_sequential = nn.Sequential(nn.Linear(784,256),\n",
    "                                 nn.Dropout(0.2),\n",
    "                                 nn.ReLU(),\n",
    "                                 nn.Linear(256,128),\n",
    "                                 nn.Dropout(0.2),\n",
    "                                 nn.ReLU(),\n",
    "                                 nn.Linear(128,64),\n",
    "                                 nn.Dropout(0.2),\n",
    "                                 nn.ReLU(),\n",
    "                                 nn.Linear(64,10),\n",
    "                                )"
   ]
  },
  {
   "cell_type": "markdown",
   "metadata": {},
   "source": [
    "We will build a wrapper function for our training called `training`. This wrapper function will take on parameters:\n",
    "- n_epochs\n",
    "- optimizer\n",
    "- model\n",
    "- loss_fn\n",
    "- train_loader\n",
    "- writer (Instance of Summary Writer to use TensorBoard for visualization)"
   ]
  },
  {
   "cell_type": "markdown",
   "metadata": {},
   "source": [
    "Pytorch does support TensorBoard which provides the visualization and tooling needed for machine learning experimentation. It is a useful tool that we can use during our training. Now let's define our training loop and implement some of the TensorBoard methods. \n",
    "\n",
    "If you wish to know more on TensorBoard, you can access it at [here](https://pytorch.org/docs/stable/tensorboard.html)"
   ]
  },
  {
   "cell_type": "code",
   "execution_count": null,
   "metadata": {},
   "outputs": [],
   "source": [
    "from torch.utils.tensorboard import SummaryWriter\n",
    "\n",
    "def training(n_epochs, optimizer, model, loss_fn, train_loader, writer):\n",
    "    for epoch in range(1, n_epochs + 1):\n",
    "        loss_train = 0.0\n",
    "        total = 0\n",
    "        correct = 0\n",
    "        for imgs, labels in train_loader:\n",
    "            # Clearing gradient from previous mini-batch gradient computation  \n",
    "            optimizer.zero_grad()\n",
    "            \n",
    "            # Reshape the tensor so that it fits the dimension of our input layer\n",
    "            # Get predictions output from the model\n",
    "            outputs = model(imgs.view(-1, 784))\n",
    "            \n",
    "            # Calculate the loss for curernt batch\n",
    "            loss = loss_fn(outputs, labels)\n",
    "            \n",
    "            # Calculating the gradient\n",
    "            loss.backward()\n",
    "            \n",
    "            # Updating the weights and biases using optimizer.step\n",
    "            optimizer.step()\n",
    "            \n",
    "            # Summing up the loss over each epoch\n",
    "            loss_train += loss.item()\n",
    "            \n",
    "            # Calculating the accuracy\n",
    "            predictions = torch.max(outputs, 1)[1]\n",
    "            correct += (predictions == labels).sum().item()\n",
    "            total += len(labels)\n",
    "\n",
    "        accuracy = correct * 100 / total\n",
    "        writer.add_scalar('Loss ', loss_train / len(train_loader), epoch)\n",
    "        writer.add_scalar('Accuracy ', accuracy, epoch)\n",
    "        print('Epoch {}, Training loss {} , Accuracy {:.2f} %'.format(epoch, loss_train / len(train_loader), accuracy))\n",
    "    writer.close()"
   ]
  },
  {
   "cell_type": "markdown",
   "metadata": {},
   "source": [
    "We can open our TensorBoard in the terminal with the command of `tensorboard --logdir=runs`. Do remember change to the same directory as this notebook."
   ]
  },
  {
   "cell_type": "markdown",
   "metadata": {},
   "source": [
    "Now we are ready for training. Let's use `SGD` as our optimizer and `CrossEntropy` as loss function. "
   ]
  },
  {
   "cell_type": "code",
   "execution_count": null,
   "metadata": {},
   "outputs": [],
   "source": [
    "torch.manual_seed(0)\n",
    "model_SGD = model_sequential \n",
    "optimizer = optim.SGD(model_SGD.parameters(), lr = 1e-3) \n",
    "loss_fn = nn.CrossEntropyLoss()\n",
    "writer = SummaryWriter(comment = 'SGD')\n",
    "training(\n",
    "    n_epochs = 10,\n",
    "    optimizer = optimizer,\n",
    "    model = model_SGD,\n",
    "    loss_fn = loss_fn,\n",
    "    train_loader = train_loader,\n",
    "    writer = writer\n",
    ")"
   ]
  },
  {
   "cell_type": "markdown",
   "metadata": {},
   "source": [
    "Let us build another model which we set log softmax as the activation function at the output layer and uses Negative log-likelihood loss function. Compare the results for both of these setting. This time we are going to build by subclassing `nn.Module`."
   ]
  },
  {
   "cell_type": "code",
   "execution_count": null,
   "metadata": {},
   "outputs": [],
   "source": [
    "# Subclassing nn.Module\n",
    "class Classifier(nn.Module):\n",
    "    def __init__(self):\n",
    "        super().__init__()\n",
    "        self.fc_1 = nn.Linear(784, 256)\n",
    "        self.act_1 = nn.ReLU()\n",
    "        self.fc_2 = nn.Linear(256, 128)\n",
    "        self.act_2 = nn.ReLU()\n",
    "        self.fc_3 = nn.Linear(128, 64)\n",
    "        self.act_3 = nn.ReLU()\n",
    "        self.fc_4 = nn.Linear(64, 10)\n",
    "        self.dropout = nn.Dropout(0.2)\n",
    "        \n",
    "    def forward(self, x):\n",
    "        out = self.dropout(self.act_1(self.fc_1(x)))\n",
    "        out = self.dropout(self.act_2(self.fc_2(out)))\n",
    "        out = self.dropout(self.act_3(self.fc_3(out)))\n",
    "        # adding in softmax\n",
    "        out = F.log_softmax(self.fc_4(out), dim = 1)\n",
    "        return out\n",
    "    \n",
    "# Or you can use the Pytorch provided functional API when defining the forward method. Both of these are the same.\n",
    "\n",
    "class Classifier_F(nn.Module):\n",
    "    def __init__(self):\n",
    "        super().__init__()\n",
    "        self.fc_1 = nn.Linear(784, 256)\n",
    "        self.fc_2 = nn.Linear(256, 128)\n",
    "        self.fc_3 = nn.Linear(128, 64)\n",
    "        self.fc_4 = nn.Linear(64, 10)\n",
    "        \n",
    "    def forward(self, x):\n",
    "        out = F.dropout(F.relu(self.fc_1(x)), p = 0.2)\n",
    "        out = F.dropout(F.relu(self.fc_2(out)), p = 0.2)\n",
    "        out = F.dropout(F.relu(self.fc_3(out)), p = 0.2)\n",
    "        out = F.log_softmax(self.fc_4(out), dim = 1)\n",
    "        return out"
   ]
  },
  {
   "cell_type": "code",
   "execution_count": null,
   "metadata": {},
   "outputs": [],
   "source": [
    "torch.manual_seed(0)\n",
    "model_SGD = Classifier() \n",
    "optimizer = optim.SGD(model_SGD.parameters(), lr = 1e-3) \n",
    "loss_fn = nn.NLLLoss()\n",
    "writer = SummaryWriter(comment = 'SGD')\n",
    "training(\n",
    "    n_epochs = 10,\n",
    "    optimizer = optimizer,\n",
    "    model = model_SGD,\n",
    "    loss_fn = loss_fn,\n",
    "    train_loader = train_loader,\n",
    "    writer = writer\n",
    ")"
   ]
  },
  {
   "cell_type": "markdown",
   "metadata": {},
   "source": [
    "CrossEntropy is actually performing log softmax and negative log likelihood at the same time. Therefore during the construction of our model we could neglect the declaration of activation function at the output layer and save some memory during the backpropagation."
   ]
  },
  {
   "cell_type": "markdown",
   "metadata": {},
   "source": [
    "Let us try using other optimizer `Adam` to do our training. Optimizer is one of the hyperparameters that we can tune on."
   ]
  },
  {
   "cell_type": "code",
   "execution_count": null,
   "metadata": {},
   "outputs": [],
   "source": [
    "model_Adam = Classifier() \n",
    "optimizer = optim.Adam(model_Adam.parameters(), lr = 1e-3) \n",
    "loss_fn = nn.CrossEntropyLoss()\n",
    "writer = SummaryWriter(comment = 'Adam')\n",
    "training(\n",
    "    n_epochs = 10,\n",
    "    optimizer = optimizer,\n",
    "    model = model_Adam,\n",
    "    loss_fn = loss_fn,\n",
    "    train_loader = train_loader,\n",
    "    writer = writer\n",
    ")"
   ]
  },
  {
   "cell_type": "markdown",
   "metadata": {},
   "source": [
    "In this case, we can see that `Adam` is performing better than the `SGD` with the same setting. Hyperparameter tuning is very important in order to obtain desired result"
   ]
  },
  {
   "cell_type": "markdown",
   "metadata": {},
   "source": [
    "### 3.2.2 Model Saving\n",
    "After training the model, we would like to save it for future usages. There are some pretty useful functions you might need to familar with:\n",
    "\n",
    "- `torch.save`: It serialize the object to save to your machine. Models, tensors, and dictionaries of all kinds of objects can be saved using this function.\n",
    "- `torch.load`: This function uses pickle’s unpickling facilities to deserialize pickled object files to memory.\n",
    "- `torch.nn.Module.load_state_dict`: Loads a model’s parameter dictionary using a deserialized state_dict.\n",
    "\n",
    "If you wish to know more on model saving, you can access it at [here](https://pytorch.org/tutorials/beginner/saving_loading_models.html)"
   ]
  },
  {
   "cell_type": "markdown",
   "metadata": {},
   "source": [
    "#### Saving only the weights"
   ]
  },
  {
   "cell_type": "code",
   "execution_count": null,
   "metadata": {},
   "outputs": [],
   "source": [
    "import os\n",
    "if not os.path.exists('../generated_model'):\n",
    "    os.mkdir('../generated_model')"
   ]
  },
  {
   "cell_type": "code",
   "execution_count": null,
   "metadata": {},
   "outputs": [],
   "source": [
    "# Saving the weights only of the model\n",
    "torch.save(model_Adam.state_dict(),  '../generated_model/mnist_state_dict.pt')"
   ]
  },
  {
   "cell_type": "code",
   "execution_count": null,
   "metadata": {},
   "outputs": [],
   "source": [
    "# To load the state_dict, you must have an instance of the model\n",
    "modelLoad = Classifier()\n",
    "modelLoad.load_state_dict(torch.load('../generated_model/mnist_state_dict.pt'))"
   ]
  },
  {
   "cell_type": "markdown",
   "metadata": {},
   "source": [
    "#### Saving the entire model"
   ]
  },
  {
   "cell_type": "code",
   "execution_count": null,
   "metadata": {},
   "outputs": [],
   "source": [
    "# Saving the entire model\n",
    "torch.save(model_Adam, '../generated_model/mnist_model.pt')"
   ]
  },
  {
   "cell_type": "code",
   "execution_count": null,
   "metadata": {},
   "outputs": [],
   "source": [
    "# Loading model\n",
    "modelLoad = torch.load('../generated_model/mnist_model.pt')"
   ]
  },
  {
   "cell_type": "markdown",
   "metadata": {},
   "source": [
    "### Add-ons: Saving Model in ONNX format\n",
    "Pytorch also support saving model as ONNX (Open Neural Network Exchange) file type, which is a open format built to represent machine learning models. Let's see how to do it."
   ]
  },
  {
   "cell_type": "code",
   "execution_count": null,
   "metadata": {},
   "outputs": [],
   "source": [
    "import torch.onnx \n",
    "dummy_input = torch.randn(32, 784, requires_grad = True)\n",
    "torch.onnx.export(model_Adam, dummy_input, '../generated_model/model.onnx', verbose = True, input_names = ['input'], output_names = ['output'])"
   ]
  },
  {
   "cell_type": "code",
   "execution_count": null,
   "metadata": {
    "scrolled": true
   },
   "outputs": [],
   "source": [
    "import onnx\n",
    "#loading the onnx format model\n",
    "model = onnx.load('../generated_model/model.onnx')"
   ]
  },
  {
   "cell_type": "markdown",
   "metadata": {},
   "source": [
    "### 3.2.3 Inference\n",
    "Sometimes, we would like to inference on the trained model to evaluate the performance. `model.eval()` will set the model to evaluation(inference) mode to set dropout, batch normalization layers, etc.. to evaluation mode. Evaluation mode will disable the usage of dropout and batch normalization during the `foward` method as it is not required during the inference."
   ]
  },
  {
   "cell_type": "code",
   "execution_count": null,
   "metadata": {},
   "outputs": [],
   "source": [
    "# Using previous loaded model\n",
    "modelLoad.eval()           "
   ]
  },
  {
   "cell_type": "markdown",
   "metadata": {},
   "source": [
    "After setting it to inference mode, we could pass in test data with the setting of \n",
    "```python \n",
    "with torch.no_grad():\n",
    "``` \n",
    "as we do not have to calculate the gradient during the inference, this can help us save some memory."
   ]
  },
  {
   "cell_type": "code",
   "execution_count": null,
   "metadata": {},
   "outputs": [],
   "source": [
    "with torch.no_grad():\n",
    "    correct = 0\n",
    "    total = 0\n",
    "    for images, labels in test_loader:\n",
    "        outputs = modelLoad(images.view(-1, 784))\n",
    "        predictions = torch.max(outputs, 1)[1]\n",
    "        correct += (predictions == labels).sum()\n",
    "        total += len(labels)\n",
    "    accuracy_test = correct.item() * 100 / total\n",
    "print(\"Test Accuracy : {:.2f} %\".format(accuracy_test))"
   ]
  },
  {
   "cell_type": "markdown",
   "metadata": {},
   "source": [
    "## 3.3 Build your second Neural Network\n",
    "### 3.3.1 Model Training\n",
    "\n",
    "Altough there are many other machine learning techniques to tackle multi-variate linear regression, it would be interesting for us to tackle it using deep learning for learning purposes.\n",
    "<br>In this sub-section, we will try to perform said regression using PyTorch `SequentialModel` "
   ]
  },
  {
   "cell_type": "markdown",
   "metadata": {},
   "source": [
    "We will use the Real Estate dataset from the `realEstate.csv` for our linear regression example. \n",
    "\n",
    "Description of data:\n",
    "- House Age\n",
    "- Distance from the unit to MRT station\n",
    "- The number of Convenience Stores around the unit\n",
    "- House Unit Price per 1000 USD"
   ]
  },
  {
   "cell_type": "code",
   "execution_count": null,
   "metadata": {},
   "outputs": [],
   "source": [
    "import pandas as pd\n",
    "from sklearn.model_selection import train_test_split\n",
    "from sklearn.preprocessing import StandardScaler"
   ]
  },
  {
   "cell_type": "markdown",
   "metadata": {},
   "source": [
    "First we use pandas to load in the csv.<br>\n",
    "Note that in this dataset there are a total of $3$ features and $1$ label.<br>\n",
    "Thus from the data we will use `.iloc[]` to distinguish the features and labels."
   ]
  },
  {
   "cell_type": "code",
   "execution_count": null,
   "metadata": {},
   "outputs": [],
   "source": [
    "data = pd.read_csv(\"../data/Regression/realEstate.csv\", header = 0)\n",
    "n_features = 3\n",
    "X = data.iloc[:, 0:3].values\n",
    "y = data.iloc[:, 3].values"
   ]
  },
  {
   "cell_type": "markdown",
   "metadata": {},
   "source": [
    "Following that, we split our dataset into 70/30 train/test ratio."
   ]
  },
  {
   "cell_type": "code",
   "execution_count": null,
   "metadata": {},
   "outputs": [],
   "source": [
    "X_train, X_test, y_train, y_test = train_test_split(X, y, train_size = 0.7, shuffle = True, random_state = 1022)"
   ]
  },
  {
   "cell_type": "markdown",
   "metadata": {},
   "source": [
    "Next, we perform feature scaling onto `X_train` and `X_test` using `StandardScaler` from `scikit-learn`.<br>\n",
    "*Note: only fit the train_set but transform both train and test sets*"
   ]
  },
  {
   "cell_type": "code",
   "execution_count": null,
   "metadata": {},
   "outputs": [],
   "source": [
    "scaler = StandardScaler()\n",
    "X_train = scaler.fit_transform(X_train)\n",
    "X_test = scaler.transform(X_test)"
   ]
  },
  {
   "cell_type": "markdown",
   "metadata": {},
   "source": [
    "In section 3.1, we've touch on how Dataloaders are initialized and used in model training. It was simple, which is to pass in whatever `Dataset` we need into the Dataloader initializer. <br>"
   ]
  },
  {
   "cell_type": "markdown",
   "metadata": {},
   "source": [
    "Here, we are using a custom dataset from a csv file as compared to the previous one which was prepared readily from torchvision. Thus in this case, we will have to build our own by subclassing from `torch.utils.data.Dataset`."
   ]
  },
  {
   "cell_type": "markdown",
   "metadata": {},
   "source": [
    "Whilst subclassing `Dataset`, PyTorch [documentation](https://pytorch.org/docs/stable/data.html#torch.utils.data.Dataset) notes that we have to override the `__getitem__()` method and optionally the `__len__()` method.<br>\n",
    "We will mainly have three methods in this `Dataset` class:\n",
    "- `__init__(self, data, label)`: helps us pass in the feature and labels into the dataset\n",
    "- `__len__(self)`:allows the dataset to know how many instances of data there is \n",
    "- `__getitem__(self, idx)`:allows the dataset to get items from the data and labels by indexing"
   ]
  },
  {
   "cell_type": "code",
   "execution_count": null,
   "metadata": {},
   "outputs": [],
   "source": [
    "class Custom_Dataset(Dataset):\n",
    "    def __init__(self, features, labels):\n",
    "        self.features = torch.tensor(features, dtype = torch.float32)\n",
    "        self.labels = torch.tensor(labels, dtype  = torch.float32)\n",
    "\n",
    "    def __len__(self):\n",
    "        return self.features.shape[0]\n",
    "    \n",
    "    def __getitem__(self, idx):\n",
    "        return self.features[idx], self.labels[idx]"
   ]
  },
  {
   "cell_type": "markdown",
   "metadata": {},
   "source": [
    "After feature scaling, we initialize our custom datasets and put them into `Dataloader` constructor and our data is prepared. The next step will be modeling."
   ]
  },
  {
   "cell_type": "code",
   "execution_count": null,
   "metadata": {},
   "outputs": [],
   "source": [
    "train_dataset = Custom_Dataset(X_train, y_train)\n",
    "test_dataset = Custom_Dataset(X_test, y_test)\n",
    "train_loader = DataLoader(train_dataset, batch_size = 32)\n",
    "test_loader = DataLoader(test_dataset, batch_size = 128 )"
   ]
  },
  {
   "cell_type": "markdown",
   "metadata": {},
   "source": [
    "Like we previously stated, there are two approaches of modeling.\n",
    "- Subclassing `nn.Module` \n",
    "- Calling the `nn.Sequential()` "
   ]
  },
  {
   "cell_type": "markdown",
   "metadata": {},
   "source": [
    "`torch.nn.Sequential` is a simple function that accepts a list of `nn.Modules` and returns a model with all the sequential layers. We will be implementing these few layers:\n",
    "1. nn.Linear(3,50)\n",
    "2. nn.ReLU()\n",
    "3. nn.Linear(50,25)\n",
    "4. nn.ReLU()\n",
    "5. nn.Linear(25,10)\n",
    "6. nn.ReLU()\n",
    "7. nn.Linear(10,1)"
   ]
  },
  {
   "cell_type": "code",
   "execution_count": null,
   "metadata": {},
   "outputs": [],
   "source": [
    "torch.manual_seed(123)\n",
    "model_sequential = nn.Sequential(nn.Linear(n_features, 50),\n",
    "                                 nn.ReLU(),\n",
    "                                 nn.Linear(50, 25),\n",
    "                                 nn.ReLU(),\n",
    "                                 nn.Linear(25, 10),\n",
    "                                 nn.ReLU(),\n",
    "                                 nn.Linear(10, 1)\n",
    "                                 )"
   ]
  },
  {
   "cell_type": "markdown",
   "metadata": {},
   "source": [
    "For this regression probelm, the loss/criterion we will use is Mean-Squared-Error loss, which in PyTorch is `nn.MSELoss()`<br>\n",
    "We will also choose to use `Adam` as our optimizer.<br> Remember, `torch.optim.*any_optimizer*` accepts `model.parameters()` to keep track of the model's parameters, hence we should always initialize our model first before our optimizer."
   ]
  },
  {
   "cell_type": "code",
   "execution_count": null,
   "metadata": {},
   "outputs": [],
   "source": [
    "criterion = nn.MSELoss()\n",
    "optimizer = torch.optim.Adam(model_sequential.parameters(), lr = 0.01)"
   ]
  },
  {
   "cell_type": "markdown",
   "metadata": {},
   "source": [
    "Now that our modeling is done, let's commence our training with using the training loop that defined previously"
   ]
  },
  {
   "cell_type": "markdown",
   "metadata": {},
   "source": [
    "We will build a wrapper function for our training called `train_model`. This wrapper function will take on parameters:\n",
    "- model\n",
    "- loader\n",
    "- loss_function/criterion\n",
    "- optimizer\n",
    "- number_of_epochs (optional)\n",
    "- iteration_check (optional): *if False is passed in, losses of each iteration per epoch will not be printed>*"
   ]
  },
  {
   "cell_type": "markdown",
   "metadata": {},
   "source": [
    "Below will be an overall workings an explaination of our train_model function:\n",
    "1. In each epoch, each minibatch starts with `optimizer.zero_grad()`. This is to clear previously computed gradients from previous minibatches.\n",
    "2. We get the features and labels by indexing our minibatch.\n",
    "3. Compute forward propagation by calling `model(features)` and assigning it to a variable `prediction`\n",
    "4. Compute the loss by calling `criterion(prediction, torch.unsqueeze(labels, dim=1))`\n",
    "    - the reason we unsqueeze is to make sure the shape of the labels are the same as the predictions, which is (batch_size,1) \n",
    "5. Compute backward propagation by calling `loss.backward()`\n",
    "6. Update the parameters(learning rate etc.) of the model by calling `optimizer.step()`\n",
    "7. Increment our `running_loss` with the loss of our current batch\n",
    "8. At the end of each epoch, compute the accuracy by dividing the accumulated loss and the amount of data samples, and finally zero the `running_loss` for the next epoch.\n"
   ]
  },
  {
   "cell_type": "code",
   "execution_count": null,
   "metadata": {},
   "outputs": [],
   "source": [
    "def train_model(model, loader, criterion, optimizer,epochs=5000):\n",
    "#   this running_loss will keep track of the losses of every epoch from each respective iteration\n",
    "    running_loss = 0.0\n",
    "    for epoch in range(1, epochs + 1):\n",
    "        for i, data in enumerate(loader):\n",
    "#           zero the parameter gradients\n",
    "            optimizer.zero_grad()\n",
    "            features, labels = data[0],data[1]\n",
    "            prediction = model(features)\n",
    "            loss = criterion(prediction, torch.unsqueeze(labels,dim=1))\n",
    "            loss.backward()\n",
    "            optimizer.step()\n",
    "            running_loss += loss.item()\n",
    "        if (epoch % 100 == 0 or epoch == 1):\n",
    "            print(f\"Epoch {epoch} Loss: {running_loss / len(loader)}\")     \n",
    "        running_loss = 0.0"
   ]
  },
  {
   "cell_type": "code",
   "execution_count": null,
   "metadata": {
    "scrolled": false
   },
   "outputs": [],
   "source": [
    "torch.manual_seed(0)\n",
    "train_model(model_sequential, train_loader, criterion, optimizer)"
   ]
  },
  {
   "cell_type": "markdown",
   "metadata": {},
   "source": [
    "### 3.3.2 Inference\n",
    "\n",
    "Now let's evaluate our model. Use `model.eval()` to set the model to inference mode"
   ]
  },
  {
   "cell_type": "code",
   "execution_count": null,
   "metadata": {},
   "outputs": [],
   "source": [
    "model_sequential.eval()"
   ]
  },
  {
   "cell_type": "markdown",
   "metadata": {},
   "source": [
    "Let's say your house age is 10, distance to MRT is 100 meters, and there are 6 convenience stores around the unit, could you predict your house price? Let's use our trained model to find out"
   ]
  },
  {
   "cell_type": "code",
   "execution_count": null,
   "metadata": {},
   "outputs": [],
   "source": [
    "with torch.no_grad():\n",
    "    inference = torch.tensor([[10, 100, 6]])\n",
    "    inference = torch.from_numpy(scaler.transform(inference))\n",
    "    predict = model_sequential.forward(inference.float())\n",
    "        \n",
    "print(\"The prediction for your house price is :\", predict.item() * 1000)"
   ]
  },
  {
   "cell_type": "markdown",
   "metadata": {},
   "source": [
    "# Exercise"
   ]
  },
  {
   "cell_type": "markdown",
   "metadata": {},
   "source": [
    "In this exercise we will try to build a classifier for our MNIST Handwriting dataset.\n",
    "\n",
    "Construct transform with the following transforms:\n",
    "- coverting to tensor\n",
    "- normalize the tensor with mean=0.15 and std=0.3081"
   ]
  },
  {
   "cell_type": "code",
   "execution_count": null,
   "metadata": {},
   "outputs": [],
   "source": [
    "transform = transforms.Compose()"
   ]
  },
  {
   "cell_type": "markdown",
   "metadata": {},
   "source": [
    "Obtain the MNIST dataset from `torchvision.datasets`. Load them into respective `Dataloaders`"
   ]
  },
  {
   "cell_type": "code",
   "execution_count": null,
   "metadata": {},
   "outputs": [],
   "source": [
    "from torchvision.datasets import MNIST\n",
    "\n",
    "train = MNIST(\"../data\", )\n",
    "test = MNIST(\"../data\",  )"
   ]
  },
  {
   "cell_type": "code",
   "execution_count": null,
   "metadata": {},
   "outputs": [],
   "source": [
    "train_loader = \n",
    "test_loader = "
   ]
  },
  {
   "cell_type": "markdown",
   "metadata": {},
   "source": [
    "Declare `SummaryWriter` for TensorBoard"
   ]
  },
  {
   "cell_type": "code",
   "execution_count": null,
   "metadata": {},
   "outputs": [],
   "source": [
    "writer ="
   ]
  },
  {
   "cell_type": "markdown",
   "metadata": {},
   "source": [
    "Create a Model with the following layers:\n",
    "- 4 linear/dense layers\n",
    "- First 3 with ReLU activation functions\n",
    "\n",
    "*Note: Remember to resize the incoming tensor first*"
   ]
  },
  {
   "cell_type": "code",
   "execution_count": null,
   "metadata": {},
   "outputs": [],
   "source": [
    "class Model(nn.Module):\n",
    "    def __init__(self):\n",
    " \n",
    "\n",
    "    def forward(self, x):\n",
    "        return "
   ]
  },
  {
   "cell_type": "markdown",
   "metadata": {},
   "source": [
    "Initialize the model and load it to our **GPU**."
   ]
  },
  {
   "cell_type": "code",
   "execution_count": null,
   "metadata": {},
   "outputs": [],
   "source": [
    "model = Model()\n",
    "if torch.cuda.is_available():\n",
    "    "
   ]
  },
  {
   "cell_type": "markdown",
   "metadata": {},
   "source": [
    "Initialize criterion: `CrossEntropyLoss` and optimizer `Adam`."
   ]
  },
  {
   "cell_type": "code",
   "execution_count": null,
   "metadata": {},
   "outputs": [],
   "source": [
    "criterion = \n",
    "optimizer = "
   ]
  },
  {
   "cell_type": "markdown",
   "metadata": {},
   "source": [
    "Build a wrapper function `train_model` to train the model using `CUDA`. `add_scalar` which shows a loss against epoch graph on TensorBoard.<br>\n",
    "Here is a checklist for you to keep check what to do:\n",
    "1. For each iteration in each epoch, zero the gradients of the parameters\n",
    "2. Forward propagate\n",
    "3. Calculate loss\n",
    "4. Write the loss and train to TensorBoard\n",
    "5. Back propagate\n",
    "6. Update the parameters\n",
    "7. For each epoch, calculate the accuracy on our test set"
   ]
  },
  {
   "cell_type": "code",
   "execution_count": null,
   "metadata": {},
   "outputs": [],
   "source": [
    "def train_model(model, train_loader, test_loader, criterion, optimizer, epochs = 5):\n",
    "    accuraccy_list = []\n",
    "    for epoch in range(epochs):\n",
    "        total = 0\n",
    "        correct = 0\n",
    "        for i, data in enumerate(train_loader):\n",
    "\n",
    "            \n",
    "            \n",
    "            \n",
    "        print(f'\\nAccuracy of network in epoch {epoch + 1}: {100 * correct / total}')\n",
    "    writer.flush()\n",
    "\n",
    "train_model(model, train_loader, test_loader, criterion, optimizer)\n",
    "writer.close()"
   ]
  },
  {
   "cell_type": "code",
   "execution_count": null,
   "metadata": {},
   "outputs": [],
   "source": [
    "total = 0\n",
    "correct = 0\n",
    "for data, labels in test_loader:\n",
    "    data = data.to(torch.device(\"cuda:0\"))\n",
    "    with torch.no_grad():\n",
    "        validation = model(data)\n",
    "        _,prediction = torch.max(validation, 1)\n",
    "        total += labels.size(0)\n",
    "        correct += (prediction.cpu() == labels).sum().item()\n",
    "    \n",
    "print(f'Accuracy of the network:{100 * correct / total}')"
   ]
  }
 ],
 "metadata": {
  "kernelspec": {
   "display_name": "introPytorch",
   "language": "python",
   "name": "intropytorch"
  },
  "language_info": {
   "codemirror_mode": {
    "name": "ipython",
    "version": 3
   },
   "file_extension": ".py",
   "mimetype": "text/x-python",
   "name": "python",
   "nbconvert_exporter": "python",
   "pygments_lexer": "ipython3",
   "version": "3.8.5"
  }
 },
 "nbformat": 4,
 "nbformat_minor": 4
}
