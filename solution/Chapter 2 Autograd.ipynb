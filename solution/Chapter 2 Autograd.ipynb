{
 "cells": [
  {
   "cell_type": "code",
   "execution_count": 1,
   "metadata": {},
   "outputs": [],
   "source": [
    "import torch\n",
    "from torch import nn\n",
    "import numpy as np\n",
    "import matplotlib.pyplot as plt\n",
    "import sys\n",
    "from platform import python_version"
   ]
  },
  {
   "cell_type": "code",
   "execution_count": 2,
   "metadata": {},
   "outputs": [
    {
     "name": "stdout",
     "output_type": "stream",
     "text": [
      "1.6.0\n"
     ]
    }
   ],
   "source": [
    "print(torch.__version__)"
   ]
  },
  {
   "cell_type": "code",
   "execution_count": 3,
   "metadata": {},
   "outputs": [
    {
     "name": "stdout",
     "output_type": "stream",
     "text": [
      "3.8.5\n"
     ]
    }
   ],
   "source": [
    "print(python_version())"
   ]
  },
  {
   "cell_type": "markdown",
   "metadata": {},
   "source": [
    "# 2.1 Introduction to Autograd"
   ]
  },
  {
   "cell_type": "markdown",
   "metadata": {},
   "source": [
    "## What is Autograd"
   ]
  },
  {
   "cell_type": "markdown",
   "metadata": {},
   "source": [
    "Autograd package is an engine to calculate derivatives which is Jacobian-vector product. It provides **automatic differentiation** for all operations on Tensors. It is a define-by-run framework, which means that your backprop is defined by how your code is run, and that every single iteration can be different. [Source](https://pytorch.org/tutorials/beginner/blitz/autograd_tutorial.html)"
   ]
  },
  {
   "cell_type": "markdown",
   "metadata": {},
   "source": [
    "## Why Autograd"
   ]
  },
  {
   "cell_type": "markdown",
   "metadata": {},
   "source": [
    "Neural networks are nothing more than composite mathematical functions that are delicately tweaked (trained) to output the required result. The tweaking or the training is done through a remarkable algorithm called backpropagation. Backpropagation is used to calculate the gradients of the loss with respect to the input weights to later update the weights and eventually reduce the loss. With autograd, we can skip all the steps to manually calculate our gradients. This can save us time and energy."
   ]
  },
  {
   "cell_type": "markdown",
   "metadata": {},
   "source": [
    "## How to perform Autograd"
   ]
  },
  {
   "cell_type": "markdown",
   "metadata": {},
   "source": [
    "`torch.Tensor` is the central class of the package. If you set its attribute `.requires_grad` as **True**, it starts to track all operations on it. "
   ]
  },
  {
   "cell_type": "code",
   "execution_count": 4,
   "metadata": {},
   "outputs": [
    {
     "name": "stdout",
     "output_type": "stream",
     "text": [
      "Without autograd: tensor([-1.0208, -0.1832, -0.2552, -1.8208, -1.2437])\n"
     ]
    }
   ],
   "source": [
    "# without autograd\n",
    "t_1 = torch.randn(5)\n",
    "print(f'Without autograd: {t_1}')"
   ]
  },
  {
   "cell_type": "code",
   "execution_count": 5,
   "metadata": {},
   "outputs": [
    {
     "name": "stdout",
     "output_type": "stream",
     "text": [
      "With autograd: tensor([-0.8296,  0.3247, -0.2037, -0.6478,  0.7304], requires_grad=True)\n"
     ]
    }
   ],
   "source": [
    "# with autograd\n",
    "t_2 = torch.randn(5, requires_grad=True)\n",
    "print(f'With autograd: {t_2}')"
   ]
  },
  {
   "cell_type": "markdown",
   "metadata": {},
   "source": [
    "If the mathematical operation involved tensors that has `requires_grad=True`, the output will also has `requires_grad`which it value is **True**."
   ]
  },
  {
   "cell_type": "code",
   "execution_count": 6,
   "metadata": {},
   "outputs": [
    {
     "name": "stdout",
     "output_type": "stream",
     "text": [
      "Addition of tensor: tensor([-2.0415, -0.3664, -0.5104, -3.6415, -2.4874])\n",
      "Addition of tensor with autograd has attribute of requires_grad: False\n"
     ]
    }
   ],
   "source": [
    "t_add = t_1 + t_1\n",
    "print(f'Addition of tensor: {t_add}')\n",
    "print(f'Addition of tensor with autograd has attribute of requires_grad: {t_add.requires_grad}')"
   ]
  },
  {
   "cell_type": "code",
   "execution_count": 7,
   "metadata": {},
   "outputs": [
    {
     "name": "stdout",
     "output_type": "stream",
     "text": [
      "Addition of tensor: tensor([-1.8504,  0.1415, -0.4589, -2.4686, -0.5133], grad_fn=<AddBackward0>)\n",
      "Addition of tensor with autograd has attribute of requires_grad: True\n"
     ]
    }
   ],
   "source": [
    "t_add = t_1 + t_2\n",
    "print(f'Addition of tensor: {t_add}')\n",
    "print(f'Addition of tensor with autograd has attribute of requires_grad: {t_add.requires_grad}')"
   ]
  },
  {
   "cell_type": "markdown",
   "metadata": {},
   "source": [
    "`grad_fn` attribute is depends on the operation of the tensors. In this case, `grad_fn` has attribute of `AddBackward` because our tensor operation is addition."
   ]
  },
  {
   "cell_type": "code",
   "execution_count": 8,
   "metadata": {},
   "outputs": [
    {
     "name": "stdout",
     "output_type": "stream",
     "text": [
      "Subtraction of tensor with autograd has attribute of requires_grad: True\n",
      "Multiplication of tensor with autograd has attribute of requires_grad: True\n",
      "Mean of tensor with autograd has attribute of requires_grad: True\n",
      "Sigmoid of tensor with autograd has attribute of requires_grad: True\n"
     ]
    }
   ],
   "source": [
    "t_sub = t_1 - t_2\n",
    "t_mul = t_1 * t_2\n",
    "t_mean = t_add.mean()\n",
    "t_sig = t_add.sigmoid()\n",
    "print(f'Subtraction of tensor with autograd has attribute of requires_grad: {t_sub.requires_grad}')\n",
    "print(f'Multiplication of tensor with autograd has attribute of requires_grad: {t_mul.requires_grad}')\n",
    "print(f'Mean of tensor with autograd has attribute of requires_grad: {t_mean.requires_grad}')\n",
    "print(f'Sigmoid of tensor with autograd has attribute of requires_grad: {t_sig.requires_grad}')"
   ]
  },
  {
   "cell_type": "markdown",
   "metadata": {},
   "source": [
    "## How grad is stored in tensor"
   ]
  },
  {
   "cell_type": "markdown",
   "metadata": {},
   "source": [
    "When you finish your computation you can call `.backward()` and have all the gradients computed automatically. The gradient for this tensor will be **accumulated** into `.grad` attribute."
   ]
  },
  {
   "cell_type": "code",
   "execution_count": 9,
   "metadata": {},
   "outputs": [
    {
     "name": "stdout",
     "output_type": "stream",
     "text": [
      "x: tensor([1., 1., 1., 1.], requires_grad=True)\n",
      "y: tensor([5., 5., 5., 5.], grad_fn=<AddBackward0>)\n",
      "z: tensor([75., 75., 75., 75.], grad_fn=<MulBackward0>)\n",
      "out: 75.0\n"
     ]
    }
   ],
   "source": [
    "x = torch.ones(4, requires_grad=True)\n",
    "y = x + 4\n",
    "z = y * y * 3\n",
    "out = z.mean()\n",
    "print(f'x: {x}')\n",
    "print(f'y: {y}')\n",
    "print(f'z: {z}')\n",
    "print(f'out: {out}')"
   ]
  },
  {
   "cell_type": "code",
   "execution_count": 10,
   "metadata": {},
   "outputs": [],
   "source": [
    "out.backward()"
   ]
  },
  {
   "cell_type": "code",
   "execution_count": 11,
   "metadata": {},
   "outputs": [
    {
     "name": "stdout",
     "output_type": "stream",
     "text": [
      "Gradient of x: tensor([7.5000, 7.5000, 7.5000, 7.5000])\n"
     ]
    }
   ],
   "source": [
    "print(f'Gradient of x: {x.grad}')"
   ]
  },
  {
   "cell_type": "markdown",
   "metadata": {},
   "source": [
    "> grad can be implicitly created only for **_scalar_** outputs."
   ]
  },
  {
   "cell_type": "markdown",
   "metadata": {},
   "source": [
    "## How to exclude gradient calculation"
   ]
  },
  {
   "cell_type": "markdown",
   "metadata": {},
   "source": [
    "Sometimes during our training loop when we want to update our weights, then this operation should not be part of the gradient computation. This can be particularly helpful when evaluating a model because the model may have trainable parameters with `requires_grad=True`, but for which we don’t need to involved the gradients. Therefore, we need to exclude gradient calculation. We can do it with 3 ways:\n",
    "- `x.requires_grad_(False)`\n",
    "- `x.detach()`\n",
    "- `with torch.no_grad():`"
   ]
  },
  {
   "cell_type": "markdown",
   "metadata": {},
   "source": [
    "### x.requires_grad_(False)"
   ]
  },
  {
   "cell_type": "code",
   "execution_count": 12,
   "metadata": {},
   "outputs": [
    {
     "name": "stdout",
     "output_type": "stream",
     "text": [
      "Autograd tensor: tensor([-0.8630,  1.3203, -0.2764,  0.2622,  0.0753], requires_grad=True)\n"
     ]
    }
   ],
   "source": [
    "t_1 = torch.randn(5, requires_grad=True)\n",
    "print(f'Autograd tensor: {t_1}')"
   ]
  },
  {
   "cell_type": "code",
   "execution_count": 13,
   "metadata": {},
   "outputs": [
    {
     "name": "stdout",
     "output_type": "stream",
     "text": [
      "Without autograd tensor: tensor([-0.8630,  1.3203, -0.2764,  0.2622,  0.0753])\n"
     ]
    }
   ],
   "source": [
    "# .requires_grad_(False) is an inplace operation\n",
    "t_1.requires_grad_(False)\n",
    "print(f'Without autograd tensor: {t_1}')"
   ]
  },
  {
   "cell_type": "markdown",
   "metadata": {},
   "source": [
    "### x.detach()"
   ]
  },
  {
   "cell_type": "code",
   "execution_count": 14,
   "metadata": {},
   "outputs": [
    {
     "name": "stdout",
     "output_type": "stream",
     "text": [
      "t_2: tensor([-0.8630,  1.3203, -0.2764,  0.2622,  0.0753])\n"
     ]
    }
   ],
   "source": [
    "# detach() will create new tensor with same value but it doesn't require the gradient\n",
    "t_2 = t_1.detach()\n",
    "print(f't_2: {t_2}')"
   ]
  },
  {
   "cell_type": "code",
   "execution_count": 15,
   "metadata": {},
   "outputs": [
    {
     "name": "stdout",
     "output_type": "stream",
     "text": [
      "Autograd tensor: tensor([-0.8647,  0.8365, -0.1280, -0.1312, -0.7287], requires_grad=True)\n"
     ]
    }
   ],
   "source": [
    "t_1 = torch.randn(5, requires_grad=True)\n",
    "print(f'Autograd tensor: {t_1}')"
   ]
  },
  {
   "cell_type": "code",
   "execution_count": 16,
   "metadata": {},
   "outputs": [
    {
     "name": "stdout",
     "output_type": "stream",
     "text": [
      "Inplace detach tensor: tensor([-0.8647,  0.8365, -0.1280, -0.1312, -0.7287])\n"
     ]
    }
   ],
   "source": [
    "t_1.detach_()\n",
    "print(f'Inplace detach tensor: {t_1}')"
   ]
  },
  {
   "cell_type": "markdown",
   "metadata": {},
   "source": [
    "### with torch.no_grad()"
   ]
  },
  {
   "cell_type": "code",
   "execution_count": 17,
   "metadata": {},
   "outputs": [
    {
     "name": "stdout",
     "output_type": "stream",
     "text": [
      "t_1: tensor([-0.9351, -2.8144, -0.7238, -0.0454,  0.0191], requires_grad=True)\n",
      "t_ans: tensor([ 1.0649, -0.8144,  1.2762,  1.9546,  2.0191], grad_fn=<AddBackward0>)\n",
      "t_ans: tensor([ 1.0649, -0.8144,  1.2762,  1.9546,  2.0191])\n",
      "Final t_ans: tensor([ 1.0649, -0.8144,  1.2762,  1.9546,  2.0191])\n"
     ]
    }
   ],
   "source": [
    "t_1 = torch.randn(5, requires_grad=True)\n",
    "print(f't_1: {t_1}')\n",
    "\n",
    "t_ans = t_1 + 2\n",
    "print(f't_ans: {t_ans}')\n",
    "\n",
    "with torch.no_grad():\n",
    "    t_ans = t_1 + 2\n",
    "    print(f't_ans: {t_ans}')\n",
    "print(f'Final t_ans: {t_ans}')"
   ]
  },
  {
   "cell_type": "markdown",
   "metadata": {},
   "source": [
    "Note that whenever we call `.backward()`, the gradient for this tensor will be accumulated in `.grad` attribute. As the result their values will be summed up."
   ]
  },
  {
   "cell_type": "code",
   "execution_count": 18,
   "metadata": {},
   "outputs": [
    {
     "name": "stdout",
     "output_type": "stream",
     "text": [
      "Epoch 0: tensor([2., 2., 2., 2., 2.])\n",
      "Epoch 1: tensor([4., 4., 4., 4., 4.])\n",
      "Epoch 2: tensor([6., 6., 6., 6., 6.])\n",
      "Epoch 3: tensor([8., 8., 8., 8., 8.])\n",
      "Epoch 4: tensor([10., 10., 10., 10., 10.])\n"
     ]
    }
   ],
   "source": [
    "weights = torch.tensor([1., 2., 3., 4., 5.], requires_grad=True)\n",
    "for epoch in range(5):\n",
    "    output = (weights*2).sum()\n",
    "    output.backward()\n",
    "    print(f'Epoch {epoch}: {weights.grad}')"
   ]
  },
  {
   "cell_type": "markdown",
   "metadata": {},
   "source": [
    "All the gradients are summed up and our weights or gradients are clearly incorrect. Before we do the next iteration step and optimization step, we must empty the gradient so we must call `.grad.zero_()` function."
   ]
  },
  {
   "cell_type": "code",
   "execution_count": 19,
   "metadata": {},
   "outputs": [
    {
     "name": "stdout",
     "output_type": "stream",
     "text": [
      "Epoch 0: tensor([2., 2., 2., 2., 2.])\n",
      "Epoch 1: tensor([2., 2., 2., 2., 2.])\n",
      "Epoch 2: tensor([2., 2., 2., 2., 2.])\n",
      "Epoch 3: tensor([2., 2., 2., 2., 2.])\n",
      "Epoch 4: tensor([2., 2., 2., 2., 2.])\n"
     ]
    }
   ],
   "source": [
    "weights = torch.tensor([1., 2., 3., 4., 5.], requires_grad=True)\n",
    "for epoch in range(5):\n",
    "    output = (weights*2).sum()\n",
    "    output.backward()\n",
    "    print(f'Epoch {epoch}: {weights.grad}')\n",
    "    weights.grad.zero_()"
   ]
  },
  {
   "cell_type": "markdown",
   "metadata": {},
   "source": [
    "# 2.2 Linear Regression Example"
   ]
  },
  {
   "cell_type": "markdown",
   "metadata": {},
   "source": [
    "General linear regression function: $$y = wX + b$$"
   ]
  },
  {
   "cell_type": "markdown",
   "metadata": {},
   "source": [
    "In this example, let our function $f(x) = 4x$, for now just ignore bias $b$. First we will generate dummy data of $X$ and $y$. Below is the plot of our data which the function $f(x) = 4x$. We will use linear regression to find the weight/gradient which should be $w = 4$ and predict the $y$ value respective to $x$ value of 250 which should be $y = 1000$"
   ]
  },
  {
   "cell_type": "code",
   "execution_count": 20,
   "metadata": {},
   "outputs": [
    {
     "data": {
      "image/png": "[encoded data removed]",
      "text/plain": [
       "<Figure size 432x288 with 1 Axes>"
      ]
     },
     "metadata": {
      "needs_background": "light"
     },
     "output_type": "display_data"
    }
   ],
   "source": [
    "X = np.array([2, 5, 7, 10, 15], dtype=np.float32)\n",
    "y = np.array([8, 20, 28, 40, 60], dtype=np.float32)\n",
    "plt.scatter(X, y)\n",
    "plt.xlabel('X')\n",
    "plt.ylabel('y')\n",
    "plt.show()"
   ]
  },
  {
   "cell_type": "markdown",
   "metadata": {},
   "source": [
    "There are many ways to do linear regression. Here we will show you 3 ways to do so which are:\n",
    "- Linear Regression using **NumPy** \n",
    "- Linear Regression using **PyTorch** without **_Autograd_**\n",
    "- Linear Regression using **PyTorch** with **_Autograd_**"
   ]
  },
  {
   "cell_type": "markdown",
   "metadata": {},
   "source": [
    "## Linear Regression using NumPy"
   ]
  },
  {
   "cell_type": "markdown",
   "metadata": {},
   "source": [
    "First, lets initiate weight to zero and some of our hyperparameters at the beginning. "
   ]
  },
  {
   "cell_type": "code",
   "execution_count": 21,
   "metadata": {},
   "outputs": [],
   "source": [
    "w = 0.0\n",
    "learning_rate = 0.001\n",
    "n_iters = 15"
   ]
  },
  {
   "cell_type": "markdown",
   "metadata": {},
   "source": [
    "Define `forward()` function to return model prediction."
   ]
  },
  {
   "cell_type": "code",
   "execution_count": 22,
   "metadata": {},
   "outputs": [],
   "source": [
    "def forward(X):\n",
    "    return w * X"
   ]
  },
  {
   "cell_type": "markdown",
   "metadata": {},
   "source": [
    "Define `lossMSE()` for our loss function. In this case, we will use **Mean Square Error** for our loss function.\n",
    "$$MSE = \\frac {1}{N}(Y\\_Pred- Y)^2$$"
   ]
  },
  {
   "cell_type": "code",
   "execution_count": 23,
   "metadata": {},
   "outputs": [],
   "source": [
    "def lossMSE(y, y_pred):\n",
    "    return ((y_pred - y)**2).mean()"
   ]
  },
  {
   "cell_type": "markdown",
   "metadata": {},
   "source": [
    "Define `gradient()` function to return gradient of the loss with respect to our parameters.\n",
    "$$\\frac{dJ}{dw} = \\frac{1}{N}(2X)(Y\\_Pred-Y)$$"
   ]
  },
  {
   "cell_type": "code",
   "execution_count": 24,
   "metadata": {},
   "outputs": [],
   "source": [
    "def gradient(X, y, y_pred):\n",
    "    return np.dot(2*X, y_pred-y).mean()"
   ]
  },
  {
   "cell_type": "markdown",
   "metadata": {},
   "source": [
    "Then we first make use the linear regression to predict $f(250)$ before the training."
   ]
  },
  {
   "cell_type": "code",
   "execution_count": 25,
   "metadata": {},
   "outputs": [
    {
     "name": "stdout",
     "output_type": "stream",
     "text": [
      "Prediction before training: f(250) = 0.000\n"
     ]
    }
   ],
   "source": [
    "print(f'Prediction before training: f(250) = {forward(250):.3f}')"
   ]
  },
  {
   "cell_type": "markdown",
   "metadata": {},
   "source": [
    "Now we will train our linear regression model."
   ]
  },
  {
   "cell_type": "code",
   "execution_count": 26,
   "metadata": {},
   "outputs": [
    {
     "name": "stdout",
     "output_type": "stream",
     "text": [
      "Epoch 1: weight = 3.22400, loss = 1289.5999755859\n",
      "Epoch 2: weight = 3.84946, loss = 48.5353889465\n",
      "Epoch 3: weight = 3.97079, loss = 1.8266773224\n",
      "Epoch 4: weight = 3.99433, loss = 0.0687492341\n",
      "Epoch 5: weight = 3.99890, loss = 0.0025873384\n",
      "Epoch 6: weight = 3.99979, loss = 0.0000973676\n",
      "Epoch 7: weight = 3.99996, loss = 0.0000036680\n",
      "Epoch 8: weight = 3.99999, loss = 0.0000001368\n",
      "Epoch 9: weight = 4.00000, loss = 0.0000000053\n",
      "Epoch 10: weight = 4.00000, loss = 0.0000000002\n",
      "Epoch 11: weight = 4.00000, loss = 0.0000000000\n",
      "Epoch 12: weight = 4.00000, loss = 0.0000000000\n",
      "Epoch 13: weight = 4.00000, loss = 0.0000000000\n",
      "Epoch 14: weight = 4.00000, loss = 0.0000000000\n",
      "Epoch 15: weight = 4.00000, loss = 0.0000000000\n"
     ]
    }
   ],
   "source": [
    "for epoch in range(n_iters):\n",
    "    # forward pass\n",
    "    y_pred = forward(X)\n",
    "    \n",
    "    # loss\n",
    "    loss = lossMSE(y, y_pred)\n",
    "    \n",
    "    # backward pass\n",
    "    dw = gradient(X, y, y_pred)\n",
    "    \n",
    "    # update weights\n",
    "    w -= learning_rate * dw\n",
    "    \n",
    "    print(f'Epoch {epoch+1}: weight = {w:.5f}, loss = {loss:.10f}')"
   ]
  },
  {
   "cell_type": "code",
   "execution_count": 27,
   "metadata": {},
   "outputs": [
    {
     "name": "stdout",
     "output_type": "stream",
     "text": [
      "Prediction after training: f(250) = 1000.000\n"
     ]
    }
   ],
   "source": [
    "print(f'Prediction after training: f(250) = {forward(250):.3f}')"
   ]
  },
  {
   "cell_type": "code",
   "execution_count": 28,
   "metadata": {},
   "outputs": [],
   "source": [
    "def viz(X, y, w):\n",
    "    plt.scatter(X, y)\n",
    "    plt.plot(X, X*w, 'r')\n",
    "    plt.xlabel('X')\n",
    "    plt.ylabel('y')\n",
    "    plt.show()"
   ]
  },
  {
   "cell_type": "code",
   "execution_count": 29,
   "metadata": {},
   "outputs": [
    {
     "data": {
      "image/png": "[encoded data removed]",
      "text/plain": [
       "<Figure size 432x288 with 1 Axes>"
      ]
     },
     "metadata": {
      "needs_background": "light"
     },
     "output_type": "display_data"
    }
   ],
   "source": [
    "viz(X, y, w)"
   ]
  },
  {
   "cell_type": "markdown",
   "metadata": {},
   "source": [
    "As you can see, when we plotted weight calculated which is $w = 4$ on the graph of $X$ against $y$, the gradient seems to be the **best fit line**! This showed our network has **converged**. "
   ]
  },
  {
   "cell_type": "markdown",
   "metadata": {},
   "source": [
    "## Linear Regression using PyTorch without Autograd"
   ]
  },
  {
   "cell_type": "markdown",
   "metadata": {},
   "source": [
    "Now we will use PyTorch to train our linear regression model. First, we convert our dataset $X$, $y$ from numpy array to pytorch tensor using `torch.from_numpy()` and initiate tensor $w$ with zero using `torch.tensor()`."
   ]
  },
  {
   "cell_type": "code",
   "execution_count": 30,
   "metadata": {},
   "outputs": [],
   "source": [
    "X = torch.from_numpy(X)\n",
    "y = torch.from_numpy(y)\n",
    "w = torch.zeros(1, dtype=torch.float32)"
   ]
  },
  {
   "cell_type": "markdown",
   "metadata": {},
   "source": [
    "Then we define some functions for our linear regression."
   ]
  },
  {
   "cell_type": "code",
   "execution_count": 31,
   "metadata": {},
   "outputs": [],
   "source": [
    "def forward(X):\n",
    "    return w * X\n",
    "def lossMSE(y, y_pred):\n",
    "    return ((y_pred - y)**2).mean()\n",
    "def gradient(X, y, y_pred):\n",
    "    return torch.matmul(2*X, y_pred-y).mean()"
   ]
  },
  {
   "cell_type": "markdown",
   "metadata": {},
   "source": [
    "Then we define our linear regression function without autograd."
   ]
  },
  {
   "cell_type": "code",
   "execution_count": 32,
   "metadata": {},
   "outputs": [],
   "source": [
    "def linearRegressionNoAutograd(X, y, w):\n",
    "    print(f'Prediction before training: f(250) = {forward(250).item():.3f}')\n",
    "    for epoch in range(n_iters):\n",
    "        y_pred = forward(X)\n",
    "        loss = lossMSE(y, y_pred)\n",
    "        dw = gradient(X, y, y_pred)\n",
    "        w -= learning_rate * dw\n",
    "        print(f'Epoch {epoch+1}: weight = {w.item():.5f}, loss = {loss.item():.10f}')\n",
    "    print(f'Prediction after training: f(250) = {forward(250).item():.3f}')"
   ]
  },
  {
   "cell_type": "code",
   "execution_count": 33,
   "metadata": {},
   "outputs": [
    {
     "name": "stdout",
     "output_type": "stream",
     "text": [
      "Prediction before training: f(250) = 0.000\n",
      "Epoch 1: weight = 3.22400, loss = 1289.5999755859\n",
      "Epoch 2: weight = 3.84946, loss = 48.5353584290\n",
      "Epoch 3: weight = 3.97079, loss = 1.8266773224\n",
      "Epoch 4: weight = 3.99433, loss = 0.0687492341\n",
      "Epoch 5: weight = 3.99890, loss = 0.0025873384\n",
      "Epoch 6: weight = 3.99979, loss = 0.0000973676\n",
      "Epoch 7: weight = 3.99996, loss = 0.0000036619\n",
      "Epoch 8: weight = 3.99999, loss = 0.0000001368\n",
      "Epoch 9: weight = 4.00000, loss = 0.0000000053\n",
      "Epoch 10: weight = 4.00000, loss = 0.0000000002\n",
      "Epoch 11: weight = 4.00000, loss = 0.0000000000\n",
      "Epoch 12: weight = 4.00000, loss = 0.0000000000\n",
      "Epoch 13: weight = 4.00000, loss = 0.0000000000\n",
      "Epoch 14: weight = 4.00000, loss = 0.0000000000\n",
      "Epoch 15: weight = 4.00000, loss = 0.0000000000\n",
      "Prediction after training: f(250) = 1000.000\n"
     ]
    }
   ],
   "source": [
    "linearRegressionNoAutograd(X, y, w)"
   ]
  },
  {
   "cell_type": "code",
   "execution_count": 34,
   "metadata": {},
   "outputs": [
    {
     "data": {
      "image/png": "[encoded data removed]",
      "text/plain": [
       "<Figure size 432x288 with 1 Axes>"
      ]
     },
     "metadata": {
      "needs_background": "light"
     },
     "output_type": "display_data"
    }
   ],
   "source": [
    "viz(X, y, w)"
   ]
  },
  {
   "cell_type": "markdown",
   "metadata": {},
   "source": [
    "As you can see, when we plotted weight calculated which is $w = 4$ on the graph of $X$ against $y$, the gradient seems to be the **best fit line**! This showed our network has **converged**. "
   ]
  },
  {
   "cell_type": "markdown",
   "metadata": {},
   "source": [
    "## Linear Regression using PyTorch with Autograd"
   ]
  },
  {
   "cell_type": "markdown",
   "metadata": {},
   "source": [
    "With `autograd`, we no need to manually calculate gradient anymore. With `.backward()` function, PyTorch will auto calculate gradient for us!"
   ]
  },
  {
   "cell_type": "code",
   "execution_count": 35,
   "metadata": {},
   "outputs": [
    {
     "data": {
      "text/plain": [
       "tensor([0.], requires_grad=True)"
      ]
     },
     "execution_count": 35,
     "metadata": {},
     "output_type": "execute_result"
    }
   ],
   "source": [
    "w.zero_()\n",
    "w.requires_grad_(True)"
   ]
  },
  {
   "cell_type": "markdown",
   "metadata": {},
   "source": [
    "Then we define our linear regression function with autograd."
   ]
  },
  {
   "cell_type": "code",
   "execution_count": 36,
   "metadata": {},
   "outputs": [],
   "source": [
    "def linearRegressionAutograd(X, y, w):\n",
    "    print(f'Prediction before training: f(250) = {forward(250).item():.3f}')\n",
    "    for epoch in range(n_iters):\n",
    "        y_pred = forward(X)\n",
    "        loss = lossMSE(y, y_pred)\n",
    "        loss.backward()\n",
    "        with torch.no_grad():\n",
    "            w -= learning_rate * w.grad\n",
    "        w.grad.zero_()\n",
    "        print(f'Epoch {epoch+1}: weight = {w.item():.5f}, loss = {loss.item():.10f}')\n",
    "    print(f'Prediction after training: f(250) = {forward(250).item():.3f}')"
   ]
  },
  {
   "cell_type": "code",
   "execution_count": 37,
   "metadata": {},
   "outputs": [
    {
     "name": "stdout",
     "output_type": "stream",
     "text": [
      "Prediction before training: f(250) = 0.000\n",
      "Epoch 1: weight = 0.64480, loss = 1289.5999755859\n",
      "Epoch 2: weight = 1.18566, loss = 907.3437500000\n",
      "Epoch 3: weight = 1.63933, loss = 638.3938598633\n",
      "Epoch 4: weight = 2.01987, loss = 449.1645507812\n",
      "Epoch 5: weight = 2.33907, loss = 316.0256347656\n",
      "Epoch 6: weight = 2.60681, loss = 222.3510284424\n",
      "Epoch 7: weight = 2.83139, loss = 156.4429626465\n",
      "Epoch 8: weight = 3.01977, loss = 110.0709838867\n",
      "Epoch 9: weight = 3.17778, loss = 77.4443664551\n",
      "Epoch 10: weight = 3.31033, loss = 54.4887313843\n",
      "Epoch 11: weight = 3.42150, loss = 38.3374862671\n",
      "Epoch 12: weight = 3.51476, loss = 26.9736938477\n",
      "Epoch 13: weight = 3.59298, loss = 18.9782981873\n",
      "Epoch 14: weight = 3.65859, loss = 13.3528470993\n",
      "Epoch 15: weight = 3.71362, loss = 9.3948707581\n",
      "Prediction after training: f(250) = 928.406\n"
     ]
    }
   ],
   "source": [
    "linearRegressionAutograd(X, y, w)"
   ]
  },
  {
   "cell_type": "code",
   "execution_count": 38,
   "metadata": {},
   "outputs": [
    {
     "data": {
      "image/png": "[encoded data removed]",
      "text/plain": [
       "<Figure size 432x288 with 1 Axes>"
      ]
     },
     "metadata": {
      "needs_background": "light"
     },
     "output_type": "display_data"
    }
   ],
   "source": [
    "w_numpy = w.detach().numpy()\n",
    "viz(X, y, w_numpy)"
   ]
  },
  {
   "cell_type": "markdown",
   "metadata": {},
   "source": [
    "As you can see, when we plotted weight calculated which is $w = 3.71362$ on the graph of $X$ against $y$, the gradient seems to be **not the best fit line**! This showed our network has **not converged** yet. This is because `.backward()` back propagation function is not as exact as numerical gradient computation. So we may requires to tune our hyperparameters such as number of iterations and learning rates. Lets reset our weight to zero using `.storage()`. Note that we can't reset our $w$ using inplace operation.\n",
    "> PyTorch doesn’t allow in-place operations on leaf variables that have `requires_grad=True` (such as parameters of your model) because the developers could not decide how such an operation should behave. If you want the operation to be differentiable, you can work around the limitation by cloning the leaf variable (or use a non-inplace version of the operator). [Source](https://discuss.pytorch.org/t/leaf-variable-was-used-in-an-inplace-operation/308/2)"
   ]
  },
  {
   "cell_type": "code",
   "execution_count": 39,
   "metadata": {},
   "outputs": [
    {
     "name": "stdout",
     "output_type": "stream",
     "text": [
      "Prediction before training: f(250) = 0.000\n",
      "Epoch 1: weight = 3.22400, loss = 1289.5999755859\n",
      "Epoch 2: weight = 3.84946, loss = 48.5353889465\n",
      "Epoch 3: weight = 3.97079, loss = 1.8266817331\n",
      "Epoch 4: weight = 3.99433, loss = 0.0687492341\n",
      "Epoch 5: weight = 3.99890, loss = 0.0025873384\n",
      "Epoch 6: weight = 3.99979, loss = 0.0000973676\n",
      "Epoch 7: weight = 3.99996, loss = 0.0000036619\n",
      "Epoch 8: weight = 3.99999, loss = 0.0000001368\n",
      "Epoch 9: weight = 4.00000, loss = 0.0000000053\n",
      "Epoch 10: weight = 4.00000, loss = 0.0000000002\n",
      "Epoch 11: weight = 4.00000, loss = 0.0000000000\n",
      "Epoch 12: weight = 4.00000, loss = 0.0000000000\n",
      "Epoch 13: weight = 4.00000, loss = 0.0000000000\n",
      "Epoch 14: weight = 4.00000, loss = 0.0000000000\n",
      "Epoch 15: weight = 4.00000, loss = 0.0000000000\n",
      "Prediction after training: f(250) = 1000.000\n"
     ]
    }
   ],
   "source": [
    "learning_rate = 0.005\n",
    "w.storage()[:] = 0\n",
    "linearRegressionAutograd(X, y, w)"
   ]
  },
  {
   "cell_type": "code",
   "execution_count": 40,
   "metadata": {},
   "outputs": [
    {
     "data": {
      "image/png": "[encoded data removed]",
      "text/plain": [
       "<Figure size 432x288 with 1 Axes>"
      ]
     },
     "metadata": {
      "needs_background": "light"
     },
     "output_type": "display_data"
    }
   ],
   "source": [
    "w_numpy = w.detach().numpy()\n",
    "viz(X, y, w_numpy)"
   ]
  },
  {
   "cell_type": "markdown",
   "metadata": {},
   "source": [
    "As you can see, when we plotted weight calculated which is $w = 4$ on the graph of $X$ against $y$, the gradient seems to be the **best fit line**! This showed our network has **converged**. "
   ]
  },
  {
   "cell_type": "markdown",
   "metadata": {},
   "source": [
    "### Introduction to Optimizer and Loss Function"
   ]
  },
  {
   "cell_type": "markdown",
   "metadata": {},
   "source": [
    "**Optimizers** are algorithms or methods used to change the attributes of the neural network such as weights and learning rate to reduce the losses. Optimizers are used to solve optimization problems by minimizing the function. [Source](https://towardsdatascience.com/overview-of-various-optimizers-in-neural-networks-17c1be2df6d5)\n",
    "\n",
    "**Loss function** is a method of evaluating how well specific algorithm models the given data. If predictions deviates too much from actual results, loss function would cough up a very large number. Gradually, with the help of some optimization function, loss function learns to reduce the error in prediction. [Source](https://towardsdatascience.com/common-loss-functions-in-machine-learning-46af0ffc4d23)"
   ]
  },
  {
   "cell_type": "code",
   "execution_count": 41,
   "metadata": {},
   "outputs": [],
   "source": [
    "optimizer = torch.optim.SGD([w], lr=learning_rate)\n",
    "lossMSE = nn.MSELoss()"
   ]
  },
  {
   "cell_type": "code",
   "execution_count": 42,
   "metadata": {},
   "outputs": [],
   "source": [
    "def linearRegressionAutogradOptimizerLoss(X, y, w):\n",
    "    print(f'Prediction before training: f(250) = {forward(250).item():.3f}')\n",
    "    for epoch in range(n_iters):\n",
    "        y_pred = forward(X)\n",
    "        loss = lossMSE(y, y_pred)\n",
    "        loss.backward()\n",
    "        optimizer.step()\n",
    "        optimizer.zero_grad()\n",
    "        print(f'Epoch {epoch+1}: weight = {w.item():.5f}, loss = {loss.item():.10f}')\n",
    "    print(f'Prediction after training: f(250) = {forward(250).item():.3f}')"
   ]
  },
  {
   "cell_type": "code",
   "execution_count": 43,
   "metadata": {},
   "outputs": [
    {
     "name": "stdout",
     "output_type": "stream",
     "text": [
      "Prediction before training: f(250) = 0.000\n",
      "Epoch 1: weight = 3.22400, loss = 1289.5999755859\n",
      "Epoch 2: weight = 3.84946, loss = 48.5353889465\n",
      "Epoch 3: weight = 3.97079, loss = 1.8266817331\n",
      "Epoch 4: weight = 3.99433, loss = 0.0687492341\n",
      "Epoch 5: weight = 3.99890, loss = 0.0025873384\n",
      "Epoch 6: weight = 3.99979, loss = 0.0000973676\n",
      "Epoch 7: weight = 3.99996, loss = 0.0000036619\n",
      "Epoch 8: weight = 3.99999, loss = 0.0000001368\n",
      "Epoch 9: weight = 4.00000, loss = 0.0000000053\n",
      "Epoch 10: weight = 4.00000, loss = 0.0000000002\n",
      "Epoch 11: weight = 4.00000, loss = 0.0000000000\n",
      "Epoch 12: weight = 4.00000, loss = 0.0000000000\n",
      "Epoch 13: weight = 4.00000, loss = 0.0000000000\n",
      "Epoch 14: weight = 4.00000, loss = 0.0000000000\n",
      "Epoch 15: weight = 4.00000, loss = 0.0000000000\n",
      "Prediction after training: f(250) = 1000.000\n"
     ]
    }
   ],
   "source": [
    "w.storage()[:] = 0\n",
    "linearRegressionAutogradOptimizerLoss(X, y, w)"
   ]
  },
  {
   "cell_type": "code",
   "execution_count": 44,
   "metadata": {},
   "outputs": [
    {
     "data": {
      "image/png": "[encoded data removed]",
      "text/plain": [
       "<Figure size 432x288 with 1 Axes>"
      ]
     },
     "metadata": {
      "needs_background": "light"
     },
     "output_type": "display_data"
    }
   ],
   "source": [
    "w_numpy = w.detach().numpy()\n",
    "viz(X, y, w_numpy)"
   ]
  },
  {
   "cell_type": "markdown",
   "metadata": {},
   "source": [
    "As you can see, when we plotted weight calculated which is $w = 4$ on the graph of $X$ against $y$, the gradient seems to be the **best fit line**! This showed our network has **converged**. "
   ]
  },
  {
   "cell_type": "markdown",
   "metadata": {},
   "source": [
    "# Exercise"
   ]
  },
  {
   "cell_type": "code",
   "execution_count": 45,
   "metadata": {},
   "outputs": [],
   "source": [
    "from sklearn.linear_model import LinearRegression\n",
    "from sklearn.metrics import mean_squared_error\n",
    "from sklearn.datasets import make_regression"
   ]
  },
  {
   "cell_type": "code",
   "execution_count": 46,
   "metadata": {},
   "outputs": [
    {
     "data": {
      "image/png": "[encoded data removed]",
      "text/plain": [
       "<Figure size 432x288 with 1 Axes>"
      ]
     },
     "metadata": {
      "needs_background": "light"
     },
     "output_type": "display_data"
    }
   ],
   "source": [
    "X, y = make_regression(n_samples=50, n_features=1, noise=2, random_state=428)\n",
    "X = torch.from_numpy(X).reshape(50, 1)\n",
    "y = torch.from_numpy(y).reshape(50, 1)\n",
    "plt.scatter(X, y)\n",
    "plt.xlabel('X')\n",
    "plt.ylabel('y')\n",
    "plt.show()"
   ]
  },
  {
   "cell_type": "code",
   "execution_count": 47,
   "metadata": {},
   "outputs": [
    {
     "name": "stdout",
     "output_type": "stream",
     "text": [
      "Size of X: torch.Size([50, 1])\n",
      "Size of y: torch.Size([50, 1])\n"
     ]
    }
   ],
   "source": [
    "print(f'Size of X: {X.shape}')\n",
    "print(f'Size of y: {y.shape}')"
   ]
  },
  {
   "cell_type": "markdown",
   "metadata": {},
   "source": [
    "**_TASK_**: Build a **linear regression model** to predict the $y$ value of 428 using **PyTorch** with autograd, optimizer and loss function.\n",
    "> **Challenge**: Convergence of model within 15 iterations."
   ]
  },
  {
   "cell_type": "code",
   "execution_count": 48,
   "metadata": {},
   "outputs": [
    {
     "name": "stdout",
     "output_type": "stream",
     "text": [
      "Prediction before training: f(428) = 0.000\n",
      "Epoch 1: weight = 37.05470, loss = 1109.0525983911\n",
      "Epoch 2: weight = 28.08921, loss = 68.2152182504\n",
      "Epoch 3: weight = 30.25844, loss = 7.2834470082\n",
      "Epoch 4: weight = 29.73359, loss = 3.7164326422\n",
      "Epoch 5: weight = 29.86058, loss = 3.5076151240\n",
      "Epoch 6: weight = 29.82985, loss = 3.4953909304\n",
      "Epoch 7: weight = 29.83729, loss = 3.4946753395\n",
      "Epoch 8: weight = 29.83549, loss = 3.4946334364\n",
      "Epoch 9: weight = 29.83592, loss = 3.4946309833\n",
      "Epoch 10: weight = 29.83582, loss = 3.4946308398\n",
      "Epoch 11: weight = 29.83584, loss = 3.4946308314\n",
      "Epoch 12: weight = 29.83584, loss = 3.4946308310\n",
      "Epoch 13: weight = 29.83584, loss = 3.4946308309\n",
      "Epoch 14: weight = 29.83584, loss = 3.4946308309\n",
      "Epoch 15: weight = 29.83584, loss = 3.4946308309\n",
      "Prediction after training: f(428) = 12769.739\n"
     ]
    },
    {
     "data": {
      "image/png": "[encoded data removed]",
      "text/plain": [
       "<Figure size 432x288 with 1 Axes>"
      ]
     },
     "metadata": {
      "needs_background": "light"
     },
     "output_type": "display_data"
    }
   ],
   "source": [
    "w = torch.zeros(1, dtype=torch.float32, requires_grad=True)\n",
    "learning_rate = 0.5\n",
    "n_iters = 15\n",
    "optimizer = torch.optim.SGD([w], lr=learning_rate)\n",
    "lossMSE = nn.MSELoss()\n",
    "def forward(X):\n",
    "    return w * X\n",
    "def viz(X, y, w):\n",
    "    plt.scatter(X, y)\n",
    "    plt.plot(X, X*w, 'r')\n",
    "    plt.xlabel('X')\n",
    "    plt.ylabel('y')\n",
    "    plt.show()\n",
    "print(f'Prediction before training: f(428) = {forward(428).item():.3f}')\n",
    "for epoch in range(n_iters):\n",
    "    y_pred = forward(X)\n",
    "    loss = lossMSE(y, y_pred)\n",
    "    loss.backward()\n",
    "    optimizer.step()\n",
    "    optimizer.zero_grad()\n",
    "    print(f'Epoch {epoch+1}: weight = {w.item():.5f}, loss = {loss.item():.10f}')\n",
    "print(f'Prediction after training: f(428) = {forward(428).item():.3f}')\n",
    "w_numpy = w.detach().numpy()\n",
    "viz(X, y, w_numpy)"
   ]
  },
  {
   "cell_type": "markdown",
   "metadata": {},
   "source": [
    "**Expected Output:**\n",
    "```\n",
    "weight = 29.835, loss = 3.494\n",
    "Prediction after training: f(428) = 12769.(approx)\n",
    "```\n",
    "![Expected Answer](../../utils/Chapter_2/chapter2_expected_ans.png)"
   ]
  }
 ],
 "metadata": {
  "kernelspec": {
   "display_name": "Python [conda env:pytorch]",
   "language": "python",
   "name": "conda-env-pytorch-py"
  },
  "language_info": {
   "codemirror_mode": {
    "name": "ipython",
    "version": 3
   },
   "file_extension": ".py",
   "mimetype": "text/x-python",
   "name": "python",
   "nbconvert_exporter": "python",
   "pygments_lexer": "ipython3",
   "version": "3.8.5"
  }
 },
 "nbformat": 4,
 "nbformat_minor": 4
}
